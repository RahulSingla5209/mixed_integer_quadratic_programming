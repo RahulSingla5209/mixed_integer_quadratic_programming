{
 "cells": [
  {
   "cell_type": "code",
   "execution_count": 1,
   "id": "f6ed0dce",
   "metadata": {
    "ExecuteTime": {
     "end_time": "2021-11-28T03:22:32.944537Z",
     "start_time": "2021-11-28T03:22:31.608999Z"
    }
   },
   "outputs": [],
   "source": [
    "import gurobipy as gp\n",
    "import pandas as pd\n",
    "import matplotlib.pyplot as plt\n",
    "import numpy as np\n",
    "from sklearn.linear_model import Lasso\n",
    "\n",
    "from sklearn.model_selection import KFold\n",
    "from sklearn.metrics import mean_squared_error\n",
    "\n",
    "import warnings\n",
    "warnings.filterwarnings(\"ignore\")\n",
    "\n",
    "%matplotlib inline"
   ]
  },
  {
   "cell_type": "markdown",
   "id": "327c49bc",
   "metadata": {},
   "source": [
    "# Reading train test data"
   ]
  },
  {
   "cell_type": "code",
   "execution_count": 2,
   "id": "9be00fc5",
   "metadata": {
    "ExecuteTime": {
     "end_time": "2021-11-28T03:22:32.992540Z",
     "start_time": "2021-11-28T03:22:32.945539Z"
    }
   },
   "outputs": [
    {
     "data": {
      "text/html": [
       "<div>\n",
       "<style scoped>\n",
       "    .dataframe tbody tr th:only-of-type {\n",
       "        vertical-align: middle;\n",
       "    }\n",
       "\n",
       "    .dataframe tbody tr th {\n",
       "        vertical-align: top;\n",
       "    }\n",
       "\n",
       "    .dataframe thead th {\n",
       "        text-align: right;\n",
       "    }\n",
       "</style>\n",
       "<table border=\"1\" class=\"dataframe\">\n",
       "  <thead>\n",
       "    <tr style=\"text-align: right;\">\n",
       "      <th></th>\n",
       "      <th>y</th>\n",
       "      <th>X1</th>\n",
       "      <th>X2</th>\n",
       "      <th>X3</th>\n",
       "      <th>X4</th>\n",
       "      <th>X5</th>\n",
       "      <th>X6</th>\n",
       "      <th>X7</th>\n",
       "      <th>X8</th>\n",
       "      <th>X9</th>\n",
       "      <th>...</th>\n",
       "      <th>X41</th>\n",
       "      <th>X42</th>\n",
       "      <th>X43</th>\n",
       "      <th>X44</th>\n",
       "      <th>X45</th>\n",
       "      <th>X46</th>\n",
       "      <th>X47</th>\n",
       "      <th>X48</th>\n",
       "      <th>X49</th>\n",
       "      <th>X50</th>\n",
       "    </tr>\n",
       "  </thead>\n",
       "  <tbody>\n",
       "    <tr>\n",
       "      <th>53</th>\n",
       "      <td>-3.032076</td>\n",
       "      <td>-1.434039</td>\n",
       "      <td>-0.848684</td>\n",
       "      <td>0.837683</td>\n",
       "      <td>-0.218685</td>\n",
       "      <td>0.365502</td>\n",
       "      <td>-0.588278</td>\n",
       "      <td>1.067220</td>\n",
       "      <td>-0.111861</td>\n",
       "      <td>0.337066</td>\n",
       "      <td>...</td>\n",
       "      <td>0.702310</td>\n",
       "      <td>-0.218303</td>\n",
       "      <td>0.428413</td>\n",
       "      <td>-0.992159</td>\n",
       "      <td>-0.228899</td>\n",
       "      <td>-0.349789</td>\n",
       "      <td>0.368541</td>\n",
       "      <td>1.283896</td>\n",
       "      <td>0.541597</td>\n",
       "      <td>-0.467302</td>\n",
       "    </tr>\n",
       "    <tr>\n",
       "      <th>163</th>\n",
       "      <td>6.087100</td>\n",
       "      <td>-0.170310</td>\n",
       "      <td>-0.267964</td>\n",
       "      <td>2.282148</td>\n",
       "      <td>-1.178446</td>\n",
       "      <td>0.223512</td>\n",
       "      <td>1.659998</td>\n",
       "      <td>-0.060930</td>\n",
       "      <td>1.311829</td>\n",
       "      <td>-1.933365</td>\n",
       "      <td>...</td>\n",
       "      <td>0.733425</td>\n",
       "      <td>-1.432571</td>\n",
       "      <td>0.986560</td>\n",
       "      <td>-1.220950</td>\n",
       "      <td>0.790679</td>\n",
       "      <td>-0.608482</td>\n",
       "      <td>-0.678653</td>\n",
       "      <td>-0.064358</td>\n",
       "      <td>-1.003499</td>\n",
       "      <td>-0.254310</td>\n",
       "    </tr>\n",
       "    <tr>\n",
       "      <th>165</th>\n",
       "      <td>2.436640</td>\n",
       "      <td>-0.489735</td>\n",
       "      <td>-0.982959</td>\n",
       "      <td>0.978080</td>\n",
       "      <td>-0.575128</td>\n",
       "      <td>1.136918</td>\n",
       "      <td>1.506942</td>\n",
       "      <td>-0.117753</td>\n",
       "      <td>-1.382328</td>\n",
       "      <td>0.493008</td>\n",
       "      <td>...</td>\n",
       "      <td>0.365167</td>\n",
       "      <td>-0.296842</td>\n",
       "      <td>0.516462</td>\n",
       "      <td>-2.128276</td>\n",
       "      <td>1.942503</td>\n",
       "      <td>-0.502330</td>\n",
       "      <td>-0.556337</td>\n",
       "      <td>1.397044</td>\n",
       "      <td>-1.180145</td>\n",
       "      <td>-0.381434</td>\n",
       "    </tr>\n",
       "    <tr>\n",
       "      <th>216</th>\n",
       "      <td>0.997564</td>\n",
       "      <td>-0.049997</td>\n",
       "      <td>-0.986574</td>\n",
       "      <td>0.710725</td>\n",
       "      <td>-0.516521</td>\n",
       "      <td>0.109411</td>\n",
       "      <td>-0.095804</td>\n",
       "      <td>-0.861516</td>\n",
       "      <td>-0.017698</td>\n",
       "      <td>-0.811847</td>\n",
       "      <td>...</td>\n",
       "      <td>-0.030942</td>\n",
       "      <td>-1.871315</td>\n",
       "      <td>-0.107190</td>\n",
       "      <td>1.671911</td>\n",
       "      <td>0.153642</td>\n",
       "      <td>0.074323</td>\n",
       "      <td>-2.057823</td>\n",
       "      <td>-0.355847</td>\n",
       "      <td>-0.475370</td>\n",
       "      <td>0.324032</td>\n",
       "    </tr>\n",
       "    <tr>\n",
       "      <th>118</th>\n",
       "      <td>-2.853383</td>\n",
       "      <td>0.517916</td>\n",
       "      <td>0.294671</td>\n",
       "      <td>-1.300912</td>\n",
       "      <td>0.298630</td>\n",
       "      <td>-1.037173</td>\n",
       "      <td>0.352824</td>\n",
       "      <td>-0.293468</td>\n",
       "      <td>0.886265</td>\n",
       "      <td>-1.213855</td>\n",
       "      <td>...</td>\n",
       "      <td>-1.331369</td>\n",
       "      <td>1.579222</td>\n",
       "      <td>2.120119</td>\n",
       "      <td>-1.058927</td>\n",
       "      <td>-0.506302</td>\n",
       "      <td>0.615803</td>\n",
       "      <td>-1.421100</td>\n",
       "      <td>0.540519</td>\n",
       "      <td>-0.454560</td>\n",
       "      <td>0.331777</td>\n",
       "    </tr>\n",
       "  </tbody>\n",
       "</table>\n",
       "<p>5 rows × 51 columns</p>\n",
       "</div>"
      ],
      "text/plain": [
       "            y        X1        X2        X3        X4        X5        X6  \\\n",
       "53  -3.032076 -1.434039 -0.848684  0.837683 -0.218685  0.365502 -0.588278   \n",
       "163  6.087100 -0.170310 -0.267964  2.282148 -1.178446  0.223512  1.659998   \n",
       "165  2.436640 -0.489735 -0.982959  0.978080 -0.575128  1.136918  1.506942   \n",
       "216  0.997564 -0.049997 -0.986574  0.710725 -0.516521  0.109411 -0.095804   \n",
       "118 -2.853383  0.517916  0.294671 -1.300912  0.298630 -1.037173  0.352824   \n",
       "\n",
       "           X7        X8        X9  ...       X41       X42       X43  \\\n",
       "53   1.067220 -0.111861  0.337066  ...  0.702310 -0.218303  0.428413   \n",
       "163 -0.060930  1.311829 -1.933365  ...  0.733425 -1.432571  0.986560   \n",
       "165 -0.117753 -1.382328  0.493008  ...  0.365167 -0.296842  0.516462   \n",
       "216 -0.861516 -0.017698 -0.811847  ... -0.030942 -1.871315 -0.107190   \n",
       "118 -0.293468  0.886265 -1.213855  ... -1.331369  1.579222  2.120119   \n",
       "\n",
       "          X44       X45       X46       X47       X48       X49       X50  \n",
       "53  -0.992159 -0.228899 -0.349789  0.368541  1.283896  0.541597 -0.467302  \n",
       "163 -1.220950  0.790679 -0.608482 -0.678653 -0.064358 -1.003499 -0.254310  \n",
       "165 -2.128276  1.942503 -0.502330 -0.556337  1.397044 -1.180145 -0.381434  \n",
       "216  1.671911  0.153642  0.074323 -2.057823 -0.355847 -0.475370  0.324032  \n",
       "118 -1.058927 -0.506302  0.615803 -1.421100  0.540519 -0.454560  0.331777  \n",
       "\n",
       "[5 rows x 51 columns]"
      ]
     },
     "execution_count": 2,
     "metadata": {},
     "output_type": "execute_result"
    }
   ],
   "source": [
    "train = pd.read_csv(\"training_data.csv\")\n",
    "test = pd.read_csv(\"test_data.csv\")\n",
    "\n",
    "train.sample(5)"
   ]
  },
  {
   "cell_type": "code",
   "execution_count": 3,
   "id": "f87532f4",
   "metadata": {
    "ExecuteTime": {
     "end_time": "2021-11-28T03:22:33.024538Z",
     "start_time": "2021-11-28T03:22:32.994539Z"
    }
   },
   "outputs": [
    {
     "data": {
      "text/html": [
       "<div>\n",
       "<style scoped>\n",
       "    .dataframe tbody tr th:only-of-type {\n",
       "        vertical-align: middle;\n",
       "    }\n",
       "\n",
       "    .dataframe tbody tr th {\n",
       "        vertical-align: top;\n",
       "    }\n",
       "\n",
       "    .dataframe thead th {\n",
       "        text-align: right;\n",
       "    }\n",
       "</style>\n",
       "<table border=\"1\" class=\"dataframe\">\n",
       "  <thead>\n",
       "    <tr style=\"text-align: right;\">\n",
       "      <th></th>\n",
       "      <th>X1</th>\n",
       "      <th>X2</th>\n",
       "      <th>X3</th>\n",
       "      <th>X4</th>\n",
       "      <th>X5</th>\n",
       "      <th>X6</th>\n",
       "      <th>X7</th>\n",
       "      <th>X8</th>\n",
       "      <th>X9</th>\n",
       "      <th>X10</th>\n",
       "      <th>...</th>\n",
       "      <th>X41</th>\n",
       "      <th>X42</th>\n",
       "      <th>X43</th>\n",
       "      <th>X44</th>\n",
       "      <th>X45</th>\n",
       "      <th>X46</th>\n",
       "      <th>X47</th>\n",
       "      <th>X48</th>\n",
       "      <th>X49</th>\n",
       "      <th>X50</th>\n",
       "    </tr>\n",
       "  </thead>\n",
       "  <tbody>\n",
       "    <tr>\n",
       "      <th>0</th>\n",
       "      <td>-1.535413</td>\n",
       "      <td>0.718888</td>\n",
       "      <td>-2.099149</td>\n",
       "      <td>-0.442842</td>\n",
       "      <td>-0.598978</td>\n",
       "      <td>-1.642574</td>\n",
       "      <td>0.207755</td>\n",
       "      <td>0.760642</td>\n",
       "      <td>0.575874</td>\n",
       "      <td>0.865598</td>\n",
       "      <td>...</td>\n",
       "      <td>0.361866</td>\n",
       "      <td>1.793098</td>\n",
       "      <td>-0.631287</td>\n",
       "      <td>-0.061751</td>\n",
       "      <td>0.511049</td>\n",
       "      <td>0.488754</td>\n",
       "      <td>-0.612772</td>\n",
       "      <td>-0.471045</td>\n",
       "      <td>-1.139781</td>\n",
       "      <td>-0.260773</td>\n",
       "    </tr>\n",
       "    <tr>\n",
       "      <th>1</th>\n",
       "      <td>-1.734609</td>\n",
       "      <td>0.551981</td>\n",
       "      <td>-2.147673</td>\n",
       "      <td>-1.552944</td>\n",
       "      <td>1.514910</td>\n",
       "      <td>-1.143972</td>\n",
       "      <td>0.737594</td>\n",
       "      <td>1.321243</td>\n",
       "      <td>-0.261684</td>\n",
       "      <td>1.838930</td>\n",
       "      <td>...</td>\n",
       "      <td>-0.677985</td>\n",
       "      <td>-0.165679</td>\n",
       "      <td>0.065405</td>\n",
       "      <td>0.137162</td>\n",
       "      <td>1.258197</td>\n",
       "      <td>-0.120834</td>\n",
       "      <td>-1.564834</td>\n",
       "      <td>-0.242565</td>\n",
       "      <td>-0.001827</td>\n",
       "      <td>1.187453</td>\n",
       "    </tr>\n",
       "    <tr>\n",
       "      <th>2</th>\n",
       "      <td>0.097257</td>\n",
       "      <td>0.107634</td>\n",
       "      <td>-0.194222</td>\n",
       "      <td>0.335454</td>\n",
       "      <td>-0.408199</td>\n",
       "      <td>0.133265</td>\n",
       "      <td>0.706179</td>\n",
       "      <td>0.394971</td>\n",
       "      <td>-0.437116</td>\n",
       "      <td>-1.105334</td>\n",
       "      <td>...</td>\n",
       "      <td>1.108801</td>\n",
       "      <td>0.333791</td>\n",
       "      <td>0.282055</td>\n",
       "      <td>-1.086294</td>\n",
       "      <td>-0.115354</td>\n",
       "      <td>0.257857</td>\n",
       "      <td>-0.088838</td>\n",
       "      <td>-0.751231</td>\n",
       "      <td>1.450609</td>\n",
       "      <td>0.290593</td>\n",
       "    </tr>\n",
       "    <tr>\n",
       "      <th>3</th>\n",
       "      <td>-0.067702</td>\n",
       "      <td>0.557836</td>\n",
       "      <td>0.700848</td>\n",
       "      <td>-1.121376</td>\n",
       "      <td>1.722274</td>\n",
       "      <td>0.613525</td>\n",
       "      <td>0.700909</td>\n",
       "      <td>-0.417976</td>\n",
       "      <td>1.069749</td>\n",
       "      <td>-0.314318</td>\n",
       "      <td>...</td>\n",
       "      <td>0.692511</td>\n",
       "      <td>-0.350990</td>\n",
       "      <td>0.624558</td>\n",
       "      <td>0.434520</td>\n",
       "      <td>-0.367409</td>\n",
       "      <td>-1.144681</td>\n",
       "      <td>-0.136524</td>\n",
       "      <td>-0.557214</td>\n",
       "      <td>0.416303</td>\n",
       "      <td>0.484495</td>\n",
       "    </tr>\n",
       "    <tr>\n",
       "      <th>4</th>\n",
       "      <td>0.488729</td>\n",
       "      <td>0.211483</td>\n",
       "      <td>0.568389</td>\n",
       "      <td>0.646837</td>\n",
       "      <td>0.163868</td>\n",
       "      <td>-0.002152</td>\n",
       "      <td>0.125137</td>\n",
       "      <td>0.493571</td>\n",
       "      <td>1.705451</td>\n",
       "      <td>0.431451</td>\n",
       "      <td>...</td>\n",
       "      <td>-0.000605</td>\n",
       "      <td>1.075280</td>\n",
       "      <td>0.182281</td>\n",
       "      <td>-1.138458</td>\n",
       "      <td>0.106092</td>\n",
       "      <td>0.544640</td>\n",
       "      <td>-0.383487</td>\n",
       "      <td>-0.425773</td>\n",
       "      <td>2.667647</td>\n",
       "      <td>-0.050748</td>\n",
       "    </tr>\n",
       "  </tbody>\n",
       "</table>\n",
       "<p>5 rows × 50 columns</p>\n",
       "</div>"
      ],
      "text/plain": [
       "         X1        X2        X3        X4        X5        X6        X7  \\\n",
       "0 -1.535413  0.718888 -2.099149 -0.442842 -0.598978 -1.642574  0.207755   \n",
       "1 -1.734609  0.551981 -2.147673 -1.552944  1.514910 -1.143972  0.737594   \n",
       "2  0.097257  0.107634 -0.194222  0.335454 -0.408199  0.133265  0.706179   \n",
       "3 -0.067702  0.557836  0.700848 -1.121376  1.722274  0.613525  0.700909   \n",
       "4  0.488729  0.211483  0.568389  0.646837  0.163868 -0.002152  0.125137   \n",
       "\n",
       "         X8        X9       X10  ...       X41       X42       X43       X44  \\\n",
       "0  0.760642  0.575874  0.865598  ...  0.361866  1.793098 -0.631287 -0.061751   \n",
       "1  1.321243 -0.261684  1.838930  ... -0.677985 -0.165679  0.065405  0.137162   \n",
       "2  0.394971 -0.437116 -1.105334  ...  1.108801  0.333791  0.282055 -1.086294   \n",
       "3 -0.417976  1.069749 -0.314318  ...  0.692511 -0.350990  0.624558  0.434520   \n",
       "4  0.493571  1.705451  0.431451  ... -0.000605  1.075280  0.182281 -1.138458   \n",
       "\n",
       "        X45       X46       X47       X48       X49       X50  \n",
       "0  0.511049  0.488754 -0.612772 -0.471045 -1.139781 -0.260773  \n",
       "1  1.258197 -0.120834 -1.564834 -0.242565 -0.001827  1.187453  \n",
       "2 -0.115354  0.257857 -0.088838 -0.751231  1.450609  0.290593  \n",
       "3 -0.367409 -1.144681 -0.136524 -0.557214  0.416303  0.484495  \n",
       "4  0.106092  0.544640 -0.383487 -0.425773  2.667647 -0.050748  \n",
       "\n",
       "[5 rows x 50 columns]"
      ]
     },
     "execution_count": 3,
     "metadata": {},
     "output_type": "execute_result"
    }
   ],
   "source": [
    "X_train = train.iloc[:, 1:].copy()\n",
    "X_test = test.iloc[:, 1:].copy()\n",
    "\n",
    "y_train = train.iloc[:, 0].copy()\n",
    "y_test = test.iloc[:, 0].copy()\n",
    "\n",
    "X_train.head()"
   ]
  },
  {
   "cell_type": "code",
   "execution_count": 4,
   "id": "8dc5bfd5",
   "metadata": {
    "ExecuteTime": {
     "end_time": "2021-11-28T03:22:33.056538Z",
     "start_time": "2021-11-28T03:22:33.025538Z"
    }
   },
   "outputs": [
    {
     "data": {
      "text/html": [
       "<div>\n",
       "<style scoped>\n",
       "    .dataframe tbody tr th:only-of-type {\n",
       "        vertical-align: middle;\n",
       "    }\n",
       "\n",
       "    .dataframe tbody tr th {\n",
       "        vertical-align: top;\n",
       "    }\n",
       "\n",
       "    .dataframe thead th {\n",
       "        text-align: right;\n",
       "    }\n",
       "</style>\n",
       "<table border=\"1\" class=\"dataframe\">\n",
       "  <thead>\n",
       "    <tr style=\"text-align: right;\">\n",
       "      <th></th>\n",
       "      <th>X1</th>\n",
       "      <th>X2</th>\n",
       "      <th>X3</th>\n",
       "      <th>X4</th>\n",
       "      <th>X5</th>\n",
       "      <th>X6</th>\n",
       "      <th>X7</th>\n",
       "      <th>X8</th>\n",
       "      <th>X9</th>\n",
       "      <th>X10</th>\n",
       "      <th>...</th>\n",
       "      <th>X42</th>\n",
       "      <th>X43</th>\n",
       "      <th>X44</th>\n",
       "      <th>X45</th>\n",
       "      <th>X46</th>\n",
       "      <th>X47</th>\n",
       "      <th>X48</th>\n",
       "      <th>X49</th>\n",
       "      <th>X50</th>\n",
       "      <th>X0</th>\n",
       "    </tr>\n",
       "  </thead>\n",
       "  <tbody>\n",
       "    <tr>\n",
       "      <th>0</th>\n",
       "      <td>-2.047008</td>\n",
       "      <td>0.260132</td>\n",
       "      <td>-0.785152</td>\n",
       "      <td>0.384576</td>\n",
       "      <td>-0.137613</td>\n",
       "      <td>-0.364566</td>\n",
       "      <td>-1.941253</td>\n",
       "      <td>-0.108180</td>\n",
       "      <td>-0.339223</td>\n",
       "      <td>-0.473085</td>\n",
       "      <td>...</td>\n",
       "      <td>1.861897</td>\n",
       "      <td>0.124511</td>\n",
       "      <td>1.144071</td>\n",
       "      <td>0.128179</td>\n",
       "      <td>-0.467972</td>\n",
       "      <td>-1.085601</td>\n",
       "      <td>0.659670</td>\n",
       "      <td>0.514719</td>\n",
       "      <td>0.806656</td>\n",
       "      <td>1</td>\n",
       "    </tr>\n",
       "    <tr>\n",
       "      <th>1</th>\n",
       "      <td>-1.354328</td>\n",
       "      <td>-1.289884</td>\n",
       "      <td>1.321533</td>\n",
       "      <td>-0.091165</td>\n",
       "      <td>-1.021874</td>\n",
       "      <td>0.686778</td>\n",
       "      <td>0.089737</td>\n",
       "      <td>-0.398371</td>\n",
       "      <td>-0.261740</td>\n",
       "      <td>1.323982</td>\n",
       "      <td>...</td>\n",
       "      <td>0.584476</td>\n",
       "      <td>0.680703</td>\n",
       "      <td>0.046788</td>\n",
       "      <td>0.569681</td>\n",
       "      <td>-1.099062</td>\n",
       "      <td>-0.069656</td>\n",
       "      <td>0.709273</td>\n",
       "      <td>-0.848665</td>\n",
       "      <td>0.996168</td>\n",
       "      <td>1</td>\n",
       "    </tr>\n",
       "    <tr>\n",
       "      <th>2</th>\n",
       "      <td>0.502205</td>\n",
       "      <td>1.062887</td>\n",
       "      <td>1.460733</td>\n",
       "      <td>-1.506403</td>\n",
       "      <td>0.721664</td>\n",
       "      <td>0.528921</td>\n",
       "      <td>-0.699541</td>\n",
       "      <td>-0.270331</td>\n",
       "      <td>-2.544812</td>\n",
       "      <td>0.137799</td>\n",
       "      <td>...</td>\n",
       "      <td>-1.292924</td>\n",
       "      <td>0.411785</td>\n",
       "      <td>-0.164210</td>\n",
       "      <td>-2.407403</td>\n",
       "      <td>-1.132500</td>\n",
       "      <td>0.452923</td>\n",
       "      <td>-0.945541</td>\n",
       "      <td>0.126523</td>\n",
       "      <td>-0.972075</td>\n",
       "      <td>1</td>\n",
       "    </tr>\n",
       "    <tr>\n",
       "      <th>3</th>\n",
       "      <td>0.222381</td>\n",
       "      <td>-0.960747</td>\n",
       "      <td>-0.113762</td>\n",
       "      <td>1.935927</td>\n",
       "      <td>0.969387</td>\n",
       "      <td>-1.641403</td>\n",
       "      <td>0.026647</td>\n",
       "      <td>0.747138</td>\n",
       "      <td>-1.571784</td>\n",
       "      <td>-0.453749</td>\n",
       "      <td>...</td>\n",
       "      <td>-0.192517</td>\n",
       "      <td>0.603420</td>\n",
       "      <td>-0.277331</td>\n",
       "      <td>-1.451419</td>\n",
       "      <td>0.220775</td>\n",
       "      <td>0.474954</td>\n",
       "      <td>-0.160109</td>\n",
       "      <td>0.188047</td>\n",
       "      <td>-1.711229</td>\n",
       "      <td>1</td>\n",
       "    </tr>\n",
       "    <tr>\n",
       "      <th>4</th>\n",
       "      <td>1.209949</td>\n",
       "      <td>1.586874</td>\n",
       "      <td>-0.694784</td>\n",
       "      <td>-0.226370</td>\n",
       "      <td>-0.152108</td>\n",
       "      <td>0.772356</td>\n",
       "      <td>-0.573741</td>\n",
       "      <td>-0.992492</td>\n",
       "      <td>-0.646661</td>\n",
       "      <td>0.079182</td>\n",
       "      <td>...</td>\n",
       "      <td>-1.407777</td>\n",
       "      <td>0.094211</td>\n",
       "      <td>0.159960</td>\n",
       "      <td>-0.901612</td>\n",
       "      <td>-1.653122</td>\n",
       "      <td>0.393518</td>\n",
       "      <td>0.702539</td>\n",
       "      <td>0.552663</td>\n",
       "      <td>-0.773646</td>\n",
       "      <td>1</td>\n",
       "    </tr>\n",
       "  </tbody>\n",
       "</table>\n",
       "<p>5 rows × 51 columns</p>\n",
       "</div>"
      ],
      "text/plain": [
       "         X1        X2        X3        X4        X5        X6        X7  \\\n",
       "0 -2.047008  0.260132 -0.785152  0.384576 -0.137613 -0.364566 -1.941253   \n",
       "1 -1.354328 -1.289884  1.321533 -0.091165 -1.021874  0.686778  0.089737   \n",
       "2  0.502205  1.062887  1.460733 -1.506403  0.721664  0.528921 -0.699541   \n",
       "3  0.222381 -0.960747 -0.113762  1.935927  0.969387 -1.641403  0.026647   \n",
       "4  1.209949  1.586874 -0.694784 -0.226370 -0.152108  0.772356 -0.573741   \n",
       "\n",
       "         X8        X9       X10  ...       X42       X43       X44       X45  \\\n",
       "0 -0.108180 -0.339223 -0.473085  ...  1.861897  0.124511  1.144071  0.128179   \n",
       "1 -0.398371 -0.261740  1.323982  ...  0.584476  0.680703  0.046788  0.569681   \n",
       "2 -0.270331 -2.544812  0.137799  ... -1.292924  0.411785 -0.164210 -2.407403   \n",
       "3  0.747138 -1.571784 -0.453749  ... -0.192517  0.603420 -0.277331 -1.451419   \n",
       "4 -0.992492 -0.646661  0.079182  ... -1.407777  0.094211  0.159960 -0.901612   \n",
       "\n",
       "        X46       X47       X48       X49       X50  X0  \n",
       "0 -0.467972 -1.085601  0.659670  0.514719  0.806656   1  \n",
       "1 -1.099062 -0.069656  0.709273 -0.848665  0.996168   1  \n",
       "2 -1.132500  0.452923 -0.945541  0.126523 -0.972075   1  \n",
       "3  0.220775  0.474954 -0.160109  0.188047 -1.711229   1  \n",
       "4 -1.653122  0.393518  0.702539  0.552663 -0.773646   1  \n",
       "\n",
       "[5 rows x 51 columns]"
      ]
     },
     "execution_count": 4,
     "metadata": {},
     "output_type": "execute_result"
    }
   ],
   "source": [
    "# Adding intercept \n",
    "\n",
    "X_train['X0'] = 1\n",
    "X_test['X0'] = 1\n",
    "X_test.head()"
   ]
  },
  {
   "cell_type": "markdown",
   "id": "be33af56",
   "metadata": {},
   "source": [
    "# Task 1-2"
   ]
  },
  {
   "cell_type": "markdown",
   "id": "f691d16a",
   "metadata": {},
   "source": [
    "## Creating lasso model using Gurobi and finiding optimal value of feature count through cross-validation"
   ]
  },
  {
   "cell_type": "markdown",
   "id": "ae73c6b3",
   "metadata": {},
   "source": [
    "General form of Quadratic:\n",
    "\n",
    "Objective function: $ x^{T}Qx + c^{T}x $<br>\n",
    "s.t.<br> \n",
    "$ Ax  \\le b $<br>\n",
    "$ x  \\ge 0 $\n",
    "\n",
    "\n",
    "\n",
    "Lasso Regression:\n",
    "\n",
    "Decision Variables:\n",
    "1. $ \\beta_{0}, \\beta_{1} ... \\beta_{m}$ - Coefficients - (m+1)\n",
    "2. $ z_{1}, z_{2} ... z_{m}$ - Decison to keep the variable to drop it from regression - (m) <br>\n",
    "\n",
    "Constraints:\n",
    "1. Coefs ($\\beta_{i}$) shoud be within a given range ($|M|$) and should be non-zero iff $z_{i} > 0$ - (2m)\n",
    "2. Total number of coefs in final model should be less than k - (1) <br>\n",
    "\n",
    "Total Constraint equations - 2m +1\n",
    "\n",
    "Objective function for lasso: $$ \\beta^{T}(X^{T}X)\\beta + (-2y^{T}X)\\beta$$<br>\n",
    "s.t.<br> \n",
    "$$ -z_{i}M < \\beta_{i} < z_{i}M $$   for i=1,2...m<br>\n",
    "$$ \\sum_{i=1}^m z_{i} \\le k $$\n",
    "\n",
    "\n",
    "$ Q =(X^{T}X) $<br>\n",
    "$ c =(-2y^{T}X) $"
   ]
  },
  {
   "cell_type": "code",
   "execution_count": 5,
   "id": "8f8495d5",
   "metadata": {
    "ExecuteTime": {
     "end_time": "2021-11-28T03:58:37.069382Z",
     "start_time": "2021-11-28T03:22:33.058539Z"
    }
   },
   "outputs": [
    {
     "name": "stdout",
     "output_type": "stream",
     "text": [
      "Academic license - for non-commercial use only - expires 2022-08-21\n",
      "Using license file C:\\Users\\singl\\gurobi.lic\n"
     ]
    }
   ],
   "source": [
    "# initialisations\n",
    "cv = 10  # cross-validation\n",
    "kf = KFold(n_splits=cv, shuffle=True, random_state=10) # kFold cross val\n",
    "m = X_train.shape[1] - 1 # features\n",
    "M = 20 # Big M\n",
    "k_values = list(range(5, m+1, 5)) # k values to be tested\n",
    "error = []\n",
    "\n",
    "for train_index, test_index in kf.split(X_train):\n",
    "\n",
    "    X = X_train.iloc[train_index,].copy()\n",
    "    y = y_train.iloc[train_index,].copy()\n",
    "    X_val = X_train.iloc[test_index,].copy()\n",
    "    y_val = y_train.iloc[test_index,].copy()\n",
    "\n",
    "    ## Objective functions\n",
    "\n",
    "    Q = X.T @ X\n",
    "    c =  -2 * (y.T @ X)\n",
    "    # adding zeros for z variables\n",
    "    Q = np.pad(Q, pad_width= (0,m),\n",
    "               mode = 'constant', \n",
    "               constant_values = 0)\n",
    "    c = np.pad(c, pad_width= (0,m),\n",
    "               mode = 'constant', \n",
    "               constant_values = 0)\n",
    "\n",
    "    # Initializing the constraint matrix\n",
    "    eq_count = 1 + (2 * m)\n",
    "    dec_var_count = (2 * m) + 1\n",
    "    A = np.zeros((eq_count, dec_var_count))                    \n",
    "    b = np.zeros(eq_count)\n",
    "    sense = np.array(['<'] * eq_count )\n",
    "    # coeficents are continous \n",
    "    # z_i is binary\n",
    "    vtype = ['C'] * (m + 1) + ['B'] * m\n",
    "\n",
    "    for i in range(0, eq_count-1, 2):\n",
    "\n",
    "        # 1 * beta_i - M * z_i < 0 \n",
    "        A[i, int(i/2)] = 1\n",
    "        A[i, (m + 1) + int(i/2)] = -M\n",
    "\n",
    "        # -1 * beta_i - M * z_i < 0 \n",
    "        A[i+1, int(i/2)] = -1\n",
    "        A[i+1, (m + 1) + int(i/2)] = -M\n",
    "\n",
    "    # making sure that coeficents can be negative.\n",
    "    # gurobi assumes coef to be postive\n",
    "    lb = [-M] * (m+1) + [0] * m\n",
    "\n",
    "    error_K = []\n",
    "\n",
    "    for k in k_values:\n",
    "        ## pick k variables\n",
    "        A[2*m, (m+1): ] = 1\n",
    "        b[2*m] = k\n",
    "\n",
    "        lassoMod = gp.Model()\n",
    "        lassoMod_x = lassoMod.addMVar(dec_var_count, vtype=vtype, lb = lb)\n",
    "        lassoMod_con = lassoMod.addMConstrs(A, lassoMod_x, sense, b)\n",
    "        lassoMod.setMObjective(Q, c, 0, sense=gp.GRB.MINIMIZE)\n",
    "\n",
    "        lassoMod.Params.OutputFlag = 0\n",
    "        lassoMod.Params.TimeLimit = 3600 # 1 hour\n",
    "\n",
    "        lassoMod.optimize()\n",
    "\n",
    "        beta = lassoMod_x.x[:(m+1)]\n",
    "        \n",
    "        # calculating the validation error and then saving in an array\n",
    "        error_K = error_K + [beta.T @ X_val.T @ X_val @ beta - (2 * y_val.T @ X_val @ beta) + y_val.T @ y_val]\n",
    "        \n",
    "    error = error + error_K"
   ]
  },
  {
   "cell_type": "code",
   "execution_count": 6,
   "id": "685dab9c",
   "metadata": {
    "ExecuteTime": {
     "end_time": "2021-11-28T03:58:37.085068Z",
     "start_time": "2021-11-28T03:58:37.069382Z"
    }
   },
   "outputs": [],
   "source": [
    "val_error = np.average(np.array(error).reshape(cv, len(k_values)), axis=0)"
   ]
  },
  {
   "cell_type": "code",
   "execution_count": 7,
   "id": "7df35f2c",
   "metadata": {
    "ExecuteTime": {
     "end_time": "2021-11-28T03:58:37.211390Z",
     "start_time": "2021-11-28T03:58:37.085068Z"
    }
   },
   "outputs": [
    {
     "data": {
      "text/plain": [
       "Text(0, 0.5, 'loss')"
      ]
     },
     "execution_count": 7,
     "metadata": {},
     "output_type": "execute_result"
    },
    {
     "data": {
      "image/png": "[encoded data removed]",
      "text/plain": [
       "<Figure size 432x288 with 1 Axes>"
      ]
     },
     "metadata": {
      "needs_background": "light"
     },
     "output_type": "display_data"
    }
   ],
   "source": [
    "plt.plot(k_values, val_error)\n",
    "plt.xlabel(\"K\")\n",
    "plt.ylabel(\"loss\")"
   ]
  },
  {
   "cell_type": "code",
   "execution_count": 8,
   "id": "23eec36d",
   "metadata": {
    "ExecuteTime": {
     "end_time": "2021-11-28T03:58:37.227023Z",
     "start_time": "2021-11-28T03:58:37.211390Z"
    }
   },
   "outputs": [],
   "source": [
    "pd.DataFrame(\n",
    "    {\n",
    "        'k':k_values,\n",
    "        'error': val_error\n",
    "    }).to_csv(\"optimal_k.csv\")"
   ]
  },
  {
   "cell_type": "code",
   "execution_count": 9,
   "id": "4329f183",
   "metadata": {
    "ExecuteTime": {
     "end_time": "2021-11-28T03:58:37.243046Z",
     "start_time": "2021-11-28T03:58:37.227023Z"
    }
   },
   "outputs": [
    {
     "name": "stdout",
     "output_type": "stream",
     "text": [
      "number of non-zero coefs- 10\n"
     ]
    }
   ],
   "source": [
    "kmin = k_values[np.argmin(val_error)]\n",
    "print(\"number of non-zero coefs-\", kmin)"
   ]
  },
  {
   "cell_type": "markdown",
   "id": "45592380",
   "metadata": {},
   "source": [
    "# Task 3"
   ]
  },
  {
   "cell_type": "markdown",
   "id": "c8ee6d67",
   "metadata": {},
   "source": [
    "## Prediction to test set using gurobi model"
   ]
  },
  {
   "cell_type": "code",
   "execution_count": 12,
   "id": "63e09783",
   "metadata": {
    "ExecuteTime": {
     "end_time": "2021-11-28T03:58:39.097605Z",
     "start_time": "2021-11-28T03:58:37.998894Z"
    }
   },
   "outputs": [],
   "source": [
    "X = X_train.copy()\n",
    "y = y_train.copy()\n",
    "X_val = X_test.copy()\n",
    "y_val = y_test.copy()\n",
    "\n",
    "k = kmin # initialising k\n",
    "\n",
    "## Objective functions\n",
    "\n",
    "Q = X.T @ X\n",
    "c =  -2 * (y.T @ X)\n",
    "# adding zeros for z variables\n",
    "Q = np.pad(Q, pad_width= (0,m),\n",
    "           mode = 'constant', \n",
    "           constant_values = 0)\n",
    "c = np.pad(c, pad_width= (0,m),\n",
    "           mode = 'constant', \n",
    "           constant_values = 0)\n",
    "\n",
    "# Initializing the constraint matrix\n",
    "eq_count = 1 + (2 * m)\n",
    "dec_var_count = (2 * m) + 1\n",
    "A = np.zeros((eq_count, dec_var_count))                    \n",
    "b = np.zeros(eq_count)\n",
    "sense = np.array(['<'] * eq_count )\n",
    "# coeficents are continous \n",
    "# z_i is continous\n",
    "vtype = ['C'] * (m + 1) + ['B'] * m\n",
    "\n",
    "for i in range(0, eq_count-1, 2):\n",
    "\n",
    "    # 1 * beta_i - M * z_i < 0 \n",
    "    A[i, int(i/2)] = 1\n",
    "    A[i, (m + 1) + int(i/2)] = -M\n",
    "\n",
    "    # -1 * beta_i - M * z_i < 0 \n",
    "    A[i+1, int(i/2)] = -1\n",
    "    A[i+1, (m + 1) + int(i/2)] = -M\n",
    "\n",
    "# making sure that coeficents can be negative.\n",
    "# gurobi assumes coef to be postive\n",
    "lb = [-M] * (m+1) + [0] * m\n",
    "\n",
    "A[2*m, (m+1): ] = 1\n",
    "b[2*m] = k\n",
    "\n",
    "lassoMod = gp.Model()\n",
    "lassoMod_x = lassoMod.addMVar(dec_var_count, vtype=vtype, lb = lb)\n",
    "lassoMod_con = lassoMod.addMConstrs(A, lassoMod_x, sense, b)\n",
    "lassoMod.setMObjective(Q, c, 0, sense=gp.GRB.MINIMIZE)\n",
    "\n",
    "lassoMod.Params.OutputFlag = 0\n",
    "lassoMod.Params.TimeLimit = 3600\n",
    "\n",
    "lassoMod.optimize()\n",
    "\n",
    "beta = lassoMod_x.x[:(m+1)]\n",
    "test_error = beta.T @ X_val.T @ X_val @ beta - (2 * y_val.T @ X_val @ beta) + y_val.T @ y_val "
   ]
  },
  {
   "cell_type": "code",
   "execution_count": 13,
   "id": "124c4688",
   "metadata": {
    "ExecuteTime": {
     "end_time": "2021-11-28T03:58:39.113192Z",
     "start_time": "2021-11-28T03:58:39.097605Z"
    }
   },
   "outputs": [
    {
     "name": "stdout",
     "output_type": "stream",
     "text": [
      "Test MSE through gurobi-  2.3365439645525248\n"
     ]
    }
   ],
   "source": [
    "print(\"Test MSE through gurobi- \", test_error / len(X_test))"
   ]
  },
  {
   "cell_type": "markdown",
   "id": "1341c6fc",
   "metadata": {},
   "source": [
    "# Task 4"
   ]
  },
  {
   "cell_type": "markdown",
   "id": "3efce3cb",
   "metadata": {},
   "source": [
    "## Lasso Regression"
   ]
  },
  {
   "cell_type": "code",
   "execution_count": 10,
   "id": "039ebf1e",
   "metadata": {
    "ExecuteTime": {
     "end_time": "2021-11-28T03:58:37.983364Z",
     "start_time": "2021-11-28T03:58:37.243046Z"
    }
   },
   "outputs": [
    {
     "data": {
      "image/png": "[encoded data removed]",
      "text/plain": [
       "<Figure size 432x288 with 1 Axes>"
      ]
     },
     "metadata": {
      "needs_background": "light"
     },
     "output_type": "display_data"
    },
    {
     "data": {
      "image/png": "[encoded data removed]",
      "text/plain": [
       "<Figure size 432x288 with 1 Axes>"
      ]
     },
     "metadata": {
      "needs_background": "light"
     },
     "output_type": "display_data"
    }
   ],
   "source": [
    "# lambda values 10^-6 to be test 10^5\n",
    "lambda_values = [10**x for x in list(range(-6, 6, 1))]\n",
    "error = []\n",
    "non_zero = []\n",
    "for k in lambda_values:\n",
    "    lasso = Lasso(alpha=k)\n",
    "    \n",
    "    for train_index, test_index in kf.split(X_train):\n",
    "\n",
    "        X = X_train.iloc[train_index,].copy()\n",
    "        y = y_train.iloc[train_index,].copy()\n",
    "        X_val = X_train.iloc[test_index,].copy()\n",
    "        y_val = y_train.iloc[test_index,].copy()\n",
    "        \n",
    "        lasso = Lasso(alpha=k)\n",
    "        lasso.fit(X, y)\n",
    "        \n",
    "        # saving validation error in array\n",
    "        error = error + [mean_squared_error(y_pred=lasso.predict(X_val), y_true=y_val)]\n",
    "    \n",
    "    non_zero = non_zero + [sum(lasso.coef_ != 0)]\n",
    "\n",
    "val_error = np.average(np.array(error).reshape(len(lambda_values), cv), axis=1)\n",
    "plt.plot(list(range(-6, 6, 1)), val_error)\n",
    "plt.xlabel(\"lambda\")\n",
    "plt.ylabel(\"loss\")\n",
    "plt.show()\n",
    "plt.plot(list(range(-6, 6, 1)), non_zero)\n",
    "plt.xlabel(\"lambda\")\n",
    "plt.ylabel(\"number of non-zero coef\")\n",
    "plt.show()"
   ]
  },
  {
   "cell_type": "code",
   "execution_count": 11,
   "id": "87806fe8",
   "metadata": {
    "ExecuteTime": {
     "end_time": "2021-11-28T03:58:37.998894Z",
     "start_time": "2021-11-28T03:58:37.983364Z"
    }
   },
   "outputs": [
    {
     "name": "stdout",
     "output_type": "stream",
     "text": [
      "best lambda value- 0.1\n",
      "Number of non-zero coef- 17\n"
     ]
    }
   ],
   "source": [
    "best_lambda = lambda_values[np.argmin(val_error)]\n",
    "best_non_zero_lasso = non_zero[np.argmin(val_error)]\n",
    "print(\"best lambda value-\", best_lambda)\n",
    "print(\"Number of non-zero coef-\", best_non_zero_lasso)"
   ]
  },
  {
   "cell_type": "code",
   "execution_count": 14,
   "id": "693f4051",
   "metadata": {
    "ExecuteTime": {
     "end_time": "2021-11-28T03:58:39.128819Z",
     "start_time": "2021-11-28T03:58:39.113192Z"
    }
   },
   "outputs": [
    {
     "name": "stdout",
     "output_type": "stream",
     "text": [
      "Sklearn lasso - lambda - 0.1 - non zero coefs - 17 - test error - 2.359951684719157\n"
     ]
    }
   ],
   "source": [
    "lasso = Lasso(alpha=best_lambda)\n",
    "lasso.fit(X_train, y_train)\n",
    "print(\"Sklearn lasso - lambda -\", best_lambda, \n",
    "      \"- non zero coefs -\",best_non_zero_lasso, \n",
    "      \"- test error -\",mean_squared_error(y_pred=lasso.predict(X_test), y_true=y_test))"
   ]
  }
 ],
 "metadata": {
  "kernelspec": {
   "display_name": "Python 3",
   "language": "python",
   "name": "python3"
  },
  "language_info": {
   "codemirror_mode": {
    "name": "ipython",
    "version": 3
   },
   "file_extension": ".py",
   "mimetype": "text/x-python",
   "name": "python",
   "nbconvert_exporter": "python",
   "pygments_lexer": "ipython3",
   "version": "3.8.8"
  },
  "varInspector": {
   "cols": {
    "lenName": 16,
    "lenType": 16,
    "lenVar": 40
   },
   "kernels_config": {
    "python": {
     "delete_cmd_postfix": "",
     "delete_cmd_prefix": "del ",
     "library": "var_list.py",
     "varRefreshCmd": "print(var_dic_list())"
    },
    "r": {
     "delete_cmd_postfix": ") ",
     "delete_cmd_prefix": "rm(",
     "library": "var_list.r",
     "varRefreshCmd": "cat(var_dic_list()) "
    }
   },
   "types_to_exclude": [
    "module",
    "function",
    "builtin_function_or_method",
    "instance",
    "_Feature"
   ],
   "window_display": false
  }
 },
 "nbformat": 4,
 "nbformat_minor": 5
}
